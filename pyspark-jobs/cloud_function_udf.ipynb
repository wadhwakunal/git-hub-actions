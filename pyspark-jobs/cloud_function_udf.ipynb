{
 "cells": [
  {
   "cell_type": "code",
   "execution_count": null,
   "metadata": {},
   "outputs": [],
   "source": [
    "import requests\n",
    "def returnUrl(search_keyword):\n",
    "    headers = {\n",
    "      'Content-Type': \"application/json\"\n",
    "    }\n",
    "    body = {\n",
    "    \"query\": search_keyword\n",
    "    }\n",
    "    response = requests.post(\"{url}/{page}\".format(url=\"https://us-central1-burner-kunwadhw2.cloudfunctions.net\",page=\"function-1\"), json=body, headers=headers)\n",
    "    return response.json()[\"link\"]\n",
    "\n",
    "#print(returnUrl(\"Kunal Wadhwa\"))"
   ]
  },
  {
   "cell_type": "code",
   "execution_count": 14,
   "metadata": {},
   "outputs": [],
   "source": [
    "from pyspark.sql import SparkSession\n",
    "from pyspark.sql.types import StructType, StructField, StringType, IntegerType\n",
    "spark = SparkSession \\\n",
    ".builder \\\n",
    ".appName(\"udf job\") \\\n",
    ".getOrCreate()\n",
    "\n",
    "schema = StructType([\n",
    "    StructField('EMPLOYEE_ID',\n",
    "                IntegerType(), True),\n",
    "    StructField('FIRST_NAME',\n",
    "                StringType(), True),\n",
    "    StructField('LAST_NAME',\n",
    "                StringType(), True),\n",
    "    StructField('EMAIL',\n",
    "                StringType(), True),\n",
    "    StructField('PHONE_NUMBER',\n",
    "                StringType(), True),\n",
    "    StructField('HIRE_DATE',\n",
    "                StringType(), True),\n",
    "    StructField('JOB_ID',\n",
    "                StringType(), True),\n",
    "    StructField('SALARY',\n",
    "                IntegerType(), True),\n",
    "    StructField('COMMISSION_PCT',\n",
    "                StringType(), True),\n",
    "    StructField('MANAGER_ID',\n",
    "                StringType(), True),\n",
    "    StructField('DEPARTMENT_ID',\n",
    "                IntegerType(), True)\n",
    "])\n",
    "\n",
    "df = spark \\\n",
    ".read \\\n",
    ".format(\"csv\") \\\n",
    ".schema(schema) \\\n",
    ".option(\"header\",True) \\\n",
    ".load(\"gs://kunal-bucket/data/employees.csv\")\n",
    "\n",
    "df.select(\"EMPLOYEE_ID\",\"FIRST_NAME\",\"LAST_NAME\").show()"
   ]
  },
  {
   "cell_type": "code",
   "execution_count": null,
   "metadata": {},
   "outputs": [],
   "source": [
    "from pyspark.sql.functions import col,udf,concat,lit\n",
    "from pyspark.sql.types import StringType\n",
    "\n",
    "getUrl = udf(lambda z:returnUrl(z),StringType())\n",
    "\n",
    "df_with_url = df \\\n",
    "    .withColumn(\"FULL_NAME\",concat(concat(col(\"FIRST_NAME\"),lit(\" \")),col(\"LAST_NAME\"))) \\\n",
    "    .withColumn(\"URL\",getUrl(concat(concat(col(\"FIRST_NAME\"),lit(\" \")),col(\"LAST_NAME\"))))\n",
    "\n",
    "df_with_url.select(\"EMPLOYEE_ID\",\"FIRST_NAME\",\"LAST_NAME\",\"FULL_NAME\",\"URL\").show()"
   ]
  }
 ],
 "metadata": {
  "kernelspec": {
   "display_name": "kunal",
   "language": "python",
   "name": "python3"
  },
  "language_info": {
   "codemirror_mode": {
    "name": "ipython",
    "version": 3
   },
   "file_extension": ".py",
   "mimetype": "text/x-python",
   "name": "python",
   "nbconvert_exporter": "python",
   "pygments_lexer": "ipython3",
   "version": "3.10.8"
  },
  "orig_nbformat": 4
 },
 "nbformat": 4,
 "nbformat_minor": 2
}
